{
 "cells": [
  {
   "cell_type": "markdown",
   "metadata": {},
   "source": [
    "# 1: Getting Started"
   ]
  },
  {
   "cell_type": "markdown",
   "metadata": {},
   "source": [
    "Welcome to the Python for analysts training course!\n",
    "\n",
    "This course is aimed at existing analysts who have some experience using analytical software (e.g. SAS, SPSS, Matlab etc.) who want to learn Python."
   ]
  },
  {
   "cell_type": "markdown",
   "metadata": {},
   "source": [
    "## So what is Python?"
   ]
  },
  {
   "cell_type": "markdown",
   "metadata": {},
   "source": [
    "Great question.\n",
    "\n",
    "It's an open source programming language created by a guy called Guido van Rossum in 1989. He now works for Google and is the BDFL or Benevolent Dictator For Life. This essentially means he's in charge of the direction of the language. This is done (in conjunction with the user community of course!) via PEPs or Python Enhancement Protocols. You can read these at www.Python.org but two great examples are PEP 8 and PEP 20.\n",
    "\n",
    "* <a href = \"https://www.python.org/dev/peps/pep-0008/\">PEP 8</a>\n",
    "\n",
    "* <a href = \"https://www.python.org/dev/peps/pep-0020/\">PEP 20</a>\n",
    "\n",
    "\n",
    "Over time Python has been developed by its user community and is now recognised as one of the 'big 2' programming languages for Data Science, the other being R.\n",
    "\n",
    "Python is:\n",
    "\n",
    "* an easy and intuitive language just as powerful as major competitors\n",
    "\n",
    "* open source, so anyone can contribute to its development\n",
    "    \n",
    "* code that is as understandable as plain English\n",
    "    \n",
    "* suitability for everyday tasks, allowing for short development times\n",
    "\n",
    "* named after Monty Python's Flying Circus\n",
    "\n",
    "From time to time you'll also hear that Python is an Object Orientated Programming (OOP) language. You don't have to worry about this when you're starting out and for the most part it will operate in a similar manner to other statistical and analytical software that you may have used.\n"
   ]
  },
  {
   "cell_type": "markdown",
   "metadata": {},
   "source": [
    "## What makes Python so great?"
   ]
  },
  {
   "cell_type": "markdown",
   "metadata": {},
   "source": [
    "* It's free\n",
    "\n",
    "* It's syntactically simple\n",
    "\n",
    "* It's open source\n",
    "\n",
    "* It has an energised user community\n",
    "\n",
    "* Easy to get answers to questions (e.g. Stack Overflow)\n",
    "\n",
    "* Its capability can be extended with packages (also called libraries, modules, extensions etc.)\n",
    "\n",
    "* It can do so many things (e.g. Data, Statistics, Modeling, Visualisation, Web development...)"
   ]
  },
  {
   "cell_type": "markdown",
   "metadata": {},
   "source": [
    "## I hear there are different versions of Python... What's up with that?"
   ]
  },
  {
   "cell_type": "markdown",
   "metadata": {},
   "source": [
    "Yes, there are two versions of Python in use: Versions 2 and 3. The differences are subtle and when you're starting out this needn't concern you too much.\n",
    "\n",
    "It's fair to say that up until recently Version 2 was probably slightly more used, however Python 3 has just overtaken it in terms of popularity and since we're picking up Python from scratch with this training, it's better to use version 3."
   ]
  },
  {
   "cell_type": "markdown",
   "metadata": {},
   "source": [
    "## Extending Python"
   ]
  },
  {
   "cell_type": "markdown",
   "metadata": {},
   "source": [
    "It's safe to say that on its own Python is pretty useless for Data Science. However, over time the user community has developed a number of packages or libraries for Python. These extend the core functionality and enbable users to do a wider variety of things with it."
   ]
  },
  {
   "cell_type": "markdown",
   "metadata": {},
   "source": [
    "Good examples of packages for Python include:\n",
    "\n",
    "* Pandas for data analysis\n",
    "\n",
    "* Numpy for Mathmatical functions\n",
    "\n",
    "* Scipy for Scientific computing and machine learning\n",
    "\n",
    "* Matplotlib for data visualisation\n",
    "\n",
    "We'll be covering some of these later in the course!"
   ]
  },
  {
   "cell_type": "markdown",
   "metadata": {},
   "source": [
    "## Anaconda"
   ]
  },
  {
   "cell_type": "markdown",
   "metadata": {},
   "source": [
    "The Anaconda Installation gathers together 400 or so of the most used Python packages and libraries for data analysts and scientists and is pretty much a one stop shop for everything you need to get started.\n",
    "\n",
    "One of the drawbacks to open source software is that does tend to have compatability issues sometimes and this can lead to problems installing. Anaconda gets around all of this so it will be our starting point for our Python Journey."
   ]
  },
  {
   "cell_type": "markdown",
   "metadata": {},
   "source": [
    "## The REPL"
   ]
  },
  {
   "cell_type": "markdown",
   "metadata": {},
   "source": [
    "Interacting with Base Python is via the REPL (Read, Eval, Print, Loop). You will have a Python shortcut on your desktop. Double ckicling it will bring up the REPL and after a few seconds you should see the REPL prompt:\n",
    "\n",
    "\">>>\"\n",
    "\n",
    "The REPL has its uses and whilst it can execute Python code, we're not really interested in it for the time being so just be aware that it's there for now!"
   ]
  },
  {
   "cell_type": "markdown",
   "metadata": {},
   "source": [
    "## Jupyter"
   ]
  },
  {
   "cell_type": "markdown",
   "metadata": {},
   "source": [
    "the Jupyter Notebook is a browser based interface in which you can type and execute code as well as visualise your results.\n",
    "\n",
    "What you're reading now is a Jupyter Notebook and it's agreat way to mix up narrative, pictures, data, results and graphs whilst also signposting you to useful information elsewhere. The majority of the exercises in this course will take place in the Jupyter notebook. These are freely available to download from my <a href = \"http://www.Github.com/Tommo565\">Github</a> account for future reference.\n",
    "\n",
    "You may also hear Jupyter referred to as the 'IPython Notebook'. Note that this is the old name for Jupyter and is still used by a lot of people when referring to it.\n",
    "\n",
    "Getting started with Jupyter is easy. Simply click the Jupyter icon on your Start menu. This will create a 'shell' window (where Python is running) and after a few seconds, your browser will start and open up the Documents directory, the default location for saving your Jupyter notebooks. From here you can open a previous notebook or start a new one by selecting the 'New' button in the top right corner and then the Python 3 option.\n",
    "\n",
    "Writing code in Jupyter is also easy - simply click in a cell and type. To execute code you can use the run cell button on the toolbar above, or press Ctrl + Enter together. All your notebooks are automatically saved for you in your documents folder."
   ]
  },
  {
   "cell_type": "markdown",
   "metadata": {},
   "source": [
    "## IDEs / Text Editors"
   ]
  },
  {
   "cell_type": "markdown",
   "metadata": {},
   "source": [
    "In addition to the Jupyter Notebook, you'll sometimes here people talk about IDEs and Text Editors.\n",
    "\n",
    "#### IDE\n",
    "\n",
    "IDE stands for 'Integrated Development Environment'. Essentially this is a more advanced interface for interacting with Python than the default Python Console (REPL). IDEs allow us to create, execute, debug and save scripts.\n",
    "\n",
    "#### Text Editor\n",
    "\n",
    "Text editors are just that - tools for creating,  and saving scripts with limited debugging capability and no functionality to execute.\n",
    "\n",
    "Since Jupyter is an excellent interface for executing code, I generally just use a text editor to write and store code. When I want to execute code, I simply Copy and Paste across. This isn't for everyone though and my advice is to do whatever you feel comformtable with. You can quite easily get by using just Jupyter for now.\n",
    "\n",
    "Note that if you want to save down code outside of Jupyter, you'll need to give it a .py suffix. This will tell your system that it's a Python file.\n",
    "\n",
    "#### Your Cookbook\n",
    "\n",
    "Learning & remembering all the syntax of Python is difficult! This gets worse as you branch out into other languages...\n",
    "\n",
    "The first file you'll create will be your 'Cookbook'. This will contain all your useful code:\n",
    "\n",
    "* Things you do on a regular basis\n",
    "\n",
    "* Things you do on a not so regular basis\n",
    "\n",
    "* Code that you 'hack' and use from others\n",
    "\n",
    "* Shortcuts, reference, tips and tricks...\n",
    "\n",
    "* Lots of supporting notes!!!\n",
    "\n",
    "I find it a lot easier to save my cookbooks in a text editor, but again this is up to you. My favourites include Brackets, Atom and Sublime text. I also keep my cookbooks on my <a href = \"http://www.Github.com/Tommo565\">Github</a> account. Feel free to take a look and 'fork' it for your own use."
   ]
  },
  {
   "cell_type": "markdown",
   "metadata": {},
   "source": [
    "#### Object Orientated Programming (OOP)"
   ]
  },
  {
   "cell_type": "markdown",
   "metadata": {},
   "source": [
    "You'll hear a lot about Python being an 'Object Orientated Programming' (OOP) language. This is a computer science term and isn't something you need to worry about too much in the scope of this course.\n",
    "\n",
    "For now it's important that you understand, that everything you meet in Python is an 'Object' in the sense that anything can be assigned to a variable or passed as an argument to a function. This may not make sense now, but hopefully will become clearer as the course progresses.\n",
    "\n",
    "There is some further reading on OOP below:\n",
    "\n",
    "<a href = \"https://jeffknupp.com/blog/2014/06/18/improve-your-python-python-classes-and-object-oriented-programming/\">Classes and Object Orientated Programming</a>\n",
    "\n",
    "<a href = \"http://www.python-course.eu/object_oriented_programming.php\">Object Orientated Programming</a>\n",
    "\n",
    "\n"
   ]
  },
  {
   "cell_type": "code",
   "execution_count": null,
   "metadata": {
    "collapsed": true
   },
   "outputs": [],
   "source": []
  }
 ],
 "metadata": {
  "kernelspec": {
   "display_name": "Python 3",
   "language": "python",
   "name": "python3"
  },
  "language_info": {
   "codemirror_mode": {
    "name": "ipython",
    "version": 3
   },
   "file_extension": ".py",
   "mimetype": "text/x-python",
   "name": "python",
   "nbconvert_exporter": "python",
   "pygments_lexer": "ipython3",
   "version": "3.5.1"
  }
 },
 "nbformat": 4,
 "nbformat_minor": 0
}
