{
 "cells": [
  {
   "cell_type": "markdown",
   "metadata": {},
   "source": [
    "# 03E. Functions Exercises"
   ]
  },
  {
   "cell_type": "markdown",
   "metadata": {},
   "source": [
    "#### Exercise 1: Create a function that prints the type and value of an object / variable and use it to evaluate variables a through e below."
   ]
  },
  {
   "cell_type": "code",
   "execution_count": 11,
   "metadata": {
    "collapsed": true
   },
   "outputs": [],
   "source": [
    "a = 'beans'\n",
    "b = 12\n",
    "c = 34.65\n",
    "d = True\n",
    "e = None"
   ]
  },
  {
   "cell_type": "code",
   "execution_count": 18,
   "metadata": {
    "collapsed": false
   },
   "outputs": [
    {
     "name": "stdout",
     "output_type": "stream",
     "text": [
      "The type of the variable is: <class 'str'>\n",
      "The value of the object is: beans\n",
      "The type of the variable is: <class 'int'>\n",
      "The value of the object is: 12\n",
      "The type of the variable is: <class 'float'>\n",
      "The value of the object is: 34.65\n",
      "The type of the variable is: <class 'bool'>\n",
      "The value of the object is: True\n",
      "The type of the variable is: <class 'NoneType'>\n",
      "The value of the object is: None\n"
     ]
    }
   ],
   "source": [
    "def obj(var):\n",
    "    '''Prints the type and value of an object'''\n",
    "    print(\"The type of the variable is:\",type(var))\n",
    "    print(\"The value of the object is:\",var)\n",
    "    \n",
    "obj(a)\n",
    "obj(b)\n",
    "obj(c)\n",
    "obj(d)\n",
    "obj(e)"
   ]
  },
  {
   "cell_type": "markdown",
   "metadata": {},
   "source": [
    "#### Exercise 2: Create a function that determines how many letters are in a character string and outputs this in a meaningful statement to the user. Then use it to evaluate variables f through j below:"
   ]
  },
  {
   "cell_type": "code",
   "execution_count": 19,
   "metadata": {
    "collapsed": true
   },
   "outputs": [],
   "source": [
    "f = 'The Shawshank Redemption'\n",
    "g = 'The Godfather'\n",
    "h = 'The Godfather: Part II'\n",
    "i = 'The Dark Knight'\n",
    "j = \"Schindler's List\""
   ]
  },
  {
   "cell_type": "code",
   "execution_count": 24,
   "metadata": {
    "collapsed": false
   },
   "outputs": [
    {
     "name": "stdout",
     "output_type": "stream",
     "text": [
      "The Shawshank Redemption contains 24 characters\n",
      "The Godfather contains 13 characters\n",
      "The Godfather: Part II contains 22 characters\n",
      "The Dark Knight contains 15 characters\n",
      "Schindler's List contains 16 characters\n"
     ]
    }
   ],
   "source": [
    "def char(var):\n",
    "    '''Determines how many characters are in a string'''\n",
    "    print(\"%s contains\" % var,len(var),\"characters\")\n",
    "\n",
    "char(f)\n",
    "char(g)\n",
    "char(h)\n",
    "char(i)\n",
    "char(j)"
   ]
  },
  {
   "cell_type": "markdown",
   "metadata": {},
   "source": [
    "#### Exercise 3: Create a function using if/elif/else that determines what mode of transport to take based upon the number of people who want to travel:\n",
    "        \n",
    "1-2: Walk<br/>\n",
    "3-5: Car<br/>\n",
    "6-50: Coach<br/>\n",
    "51-100: Train<br/>\n",
    "101+: Plane<br/>\n",
    "\n",
    "#### Then use this function to evaluate variables k through o:"
   ]
  },
  {
   "cell_type": "code",
   "execution_count": 30,
   "metadata": {
    "collapsed": true
   },
   "outputs": [],
   "source": [
    "k = 56\n",
    "l = 1\n",
    "m = 4\n",
    "n = 180\n",
    "o = 12"
   ]
  },
  {
   "cell_type": "code",
   "execution_count": 44,
   "metadata": {
    "collapsed": false
   },
   "outputs": [
    {
     "name": "stdout",
     "output_type": "stream",
     "text": [
      "k = Train l = Walk m = Car n = Plane o = Coach\n"
     ]
    }
   ],
   "source": [
    "def people(var):\n",
    "    '''Determines the best mode of transport based upon the volume of people travelling'''\n",
    "    if var > 0 and var <= 2:\n",
    "        return 'Walk'\n",
    "    elif var > 2 and var <= 5:\n",
    "        return 'Car'\n",
    "    elif var > 5 and var <= 50:\n",
    "        return 'Coach'\n",
    "    elif var > 50 and var <= 100:\n",
    "        return 'Train'\n",
    "    elif var > 100:\n",
    "        return 'Plane' \n",
    "    else:\n",
    "        return 'Error'\n",
    "\n",
    "print(\"k =\",people(k),\"l =\",people(l),\"m =\",people(m),\"n =\",people(n),\"o =\",people(o))\n"
   ]
  },
  {
   "cell_type": "code",
   "execution_count": null,
   "metadata": {
    "collapsed": true
   },
   "outputs": [],
   "source": []
  }
 ],
 "metadata": {
  "kernelspec": {
   "display_name": "Python 3",
   "language": "python",
   "name": "python3"
  },
  "language_info": {
   "codemirror_mode": {
    "name": "ipython",
    "version": 3
   },
   "file_extension": ".py",
   "mimetype": "text/x-python",
   "name": "python",
   "nbconvert_exporter": "python",
   "pygments_lexer": "ipython3",
   "version": "3.5.1"
  }
 },
 "nbformat": 4,
 "nbformat_minor": 0
}
