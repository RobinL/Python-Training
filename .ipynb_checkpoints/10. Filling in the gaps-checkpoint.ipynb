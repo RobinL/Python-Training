{
 "cells": [
  {
   "cell_type": "markdown",
   "metadata": {},
   "source": [
    "# 10. Filling in the Gaps"
   ]
  },
  {
   "cell_type": "markdown",
   "metadata": {},
   "source": [
    "We've now reached the end of the Python basics. Well done for making it this far and I've no doubt that some of you are thinking 'Learning Python is all well and good, but when are we going to do some fun stuff with data and graphs?' Well you'll be pleased to hear that this starts very soon, but first we have to teach you some more practical stuff about Python so you're well equipped to deal with the second (and more fun!) part of the course."
   ]
  },
  {
   "cell_type": "markdown",
   "metadata": {},
   "source": [
    "## Anaconda"
   ]
  },
  {
   "cell_type": "markdown",
   "metadata": {},
   "source": [
    "I mentioned the Anaconda installation at the beginning of the course. Python is an extensible and open source language and this means that anyone can contribute to its development via creating packages/modules/libraries/extensions (from now on we're going to call these packages!). Many people have created some excellent packages for Python that have extended its functionality into the realm of data analysis and visualisation.\n",
    "\n",
    "Anaconda gathers 400 or so of these into a single downloadable and executable file which will automatically put everything you need on your PC to allow you to start doing the fun stuff.\n",
    "\n",
    "However in doing so it does remove some of the important elements of the Python learning curve and this lesson is all about helping fill in some of those gaps."
   ]
  },
  {
   "cell_type": "markdown",
   "metadata": {},
   "source": [
    "## Getting started with Anaconda"
   ]
  },
  {
   "cell_type": "markdown",
   "metadata": {},
   "source": [
    "You can download Anaconda from <a href =\"https://www.continuum.io/downloads\">this link</a>. Note you'll also need to know if you have a <a href=\"http://windows.microsoft.com/en-us/windows/32-bit-and-64-bit-windows#1TC=windows-7\">32 or 64 bit Windows installation</a> too since you'll have to install a specific version of Anaconda. You'll also want to check out what <a href=\"https://docs.continuum.io/anaconda/pkg-docs\">packages are included</a> in the installation too.\n",
    "\n",
    "The Jupyter notebook comes as part of the Anaconda installation also. We've been using this up until now so you should be fairly used to it by now, however it's a good idea to learn about some of the wider functionality from the <a href = \"http://jupyter.org/\">Jupyter Website</a> and <a href = \"http://jupyter.readthedocs.org/en/latest/index.html\">Documentation Repository</a>."
   ]
  },
  {
   "cell_type": "markdown",
   "metadata": {
    "collapsed": true
   },
   "source": [
    "## IDEs and Text Editors"
   ]
  },
  {
   "cell_type": "markdown",
   "metadata": {},
   "source": [
    "We touched briefly on IDEs and Text editors at the start of the course. Personally I prefer to use a text editor to write and save code and Jupyter to execute it. This is personal preference however and you'll want to come up with your own way of working that you're comfortable with.\n",
    "\n",
    "Some good text editors include <a href=\"https://atom.io/\">Atom</a>, <a href=\"http://brackets.io/\">Brackets</a> and <a href=\"http://www.sublimetext.com/2\">Sublime Text</a>.\n",
    "\n",
    "IDEs are more complicated to use, but a good starting point is <a href =\"https://pythonhosted.org/spyder/\">Spyder</a> (Scientific PYthon Development EnviRonment) comes as part of Anaconda and is aimed at analytical and scientific users."
   ]
  },
  {
   "cell_type": "markdown",
   "metadata": {},
   "source": [
    "## Python Packages"
   ]
  },
  {
   "cell_type": "markdown",
   "metadata": {},
   "source": [
    "There are literally thousands of community developed Python packages out there. A good place to see what's available is <a href=\"https://pypi.python.org/pypi\">PyPI</a> (Python Package Index) however note that this isn't an exhaustive list and you'll find some elsewhere on sites such as <a href=\"http://github.com/\">Github</a>.\n",
    "\n",
    "To install Python packages, you'll need access to the command line environment, which is typically restricted on corporate IT networks, meaning you'll have to get your IT department to do it for you, or use standalone IT with full administrator rights.\n",
    "\n",
    "<a href=\"http://www.computerhope.com/issues/chusedos.htm\">Using the command line environment</a> can take some getting used to but you really only need to know a little bit to get by. It's also worth noting that you can execute Python Scripts <a href = \"http://pythoncentral.io/execute-python-script-file-shell/\">from the command line</a> too."
   ]
  },
  {
   "cell_type": "markdown",
   "metadata": {},
   "source": [
    "## Installing New Packages"
   ]
  },
  {
   "cell_type": "markdown",
   "metadata": {},
   "source": [
    "Installing new packages on Python isn't done in the traditional manner of downloading .exe files and double clicking. Instead you'll need to use the conda and pip commands. This can sound daunting but really it isn't! All you have to do is open the command line and type:"
   ]
  },
  {
   "cell_type": "raw",
   "metadata": {},
   "source": [
    "conda install <name of package>"
   ]
  },
  {
   "cell_type": "markdown",
   "metadata": {},
   "source": [
    "So if we wanted to install Django, we would type:"
   ]
  },
  {
   "cell_type": "raw",
   "metadata": {},
   "source": [
    "conda install django"
   ]
  },
  {
   "cell_type": "markdown",
   "metadata": {},
   "source": [
    "and this will automatically download and install the Django package for us. It's worth noting that the conda command will only work if you have the Anaconda installation installed and even then sometimes it doesn't want to play ball. In those situations you can use the pip command:"
   ]
  },
  {
   "cell_type": "raw",
   "metadata": {},
   "source": [
    "pip install django"
   ]
  },
  {
   "cell_type": "markdown",
   "metadata": {},
   "source": [
    "Conda and pip are <a href =\"https://en.wikipedia.org/wiki/Pip_%28package_manager%29\">package managers</a> for Python and are linked to the PyPI site above. However in some cases you'll want to install a package that's not on PyPI, or it is but for some reason it's incompatible with your system (welcome to the wonderful world of open source!) and in such cases you'll want to download the source code as a .zip or .tar file and <a href=\"http://www.instructables.com/id/How-to-install-Python-packages-on-Windows-7/\">install it manually</a>."
   ]
  },
  {
   "cell_type": "markdown",
   "metadata": {},
   "source": [
    "## Useful & Interesting Packages"
   ]
  },
  {
   "cell_type": "markdown",
   "metadata": {},
   "source": [
    "Lastly, below are links to more information on some of the more widely used Python packages. Feel free to explore these at your leisure although we will be meeting some a bit later in the course.\n",
    "\n",
    "* <a href = \"http://pandas.pydata.org/\">Pandas</a> Data Analysis<br/>\n",
    "* <a href = \"http://www.numpy.org/\">Numpy</a> Maths and Statistics<br/>\n",
    "* <a href = \"http://www.scipy.org/\">Scipy</a> Scientific computing<br/>\n",
    "* <a href = \"http://scikit-learn.org/\">SciKit Learn</a> Machine Learning<br/>\n",
    "* <a href = \"http://docs.python-requests.org/en/master/\">Requests</a> HTTP & Web Interaction<br/>\n",
    "* <a href = \"https://www.crummy.com/software/BeautifulSoup/\">Beautiful Soup</a> Web Scraping<br/>\n",
    "* <a href = \"https://www.djangoproject.com/\">Django</a> Back-end Web development<br/>\n",
    "* <a href = \"http://flask.pocoo.org/\">Flask</a> Back-end Web development<br/>\n",
    "* <a href = \"http://www.pythonware.com/products/pil/\">PIL</a> and <a href = \"https://pillow.readthedocs.org/en/3.1.x/\">Pillow</a> Image Analysis<br/>\n",
    "* <a href = \"http://matplotlib.org/\">Matplotlib</a> Static Charting<br/>\n",
    "* <a href = \"https://stanford.edu/~mwaskom/software/seaborn/\">Seaborn</a> Statistical Charting<br/>\n",
    "* <a href = \"http://bokeh.pydata.org/en/latest/\">Bokeh</a> Interactive Charting<br/>\n",
    "* <a href = \"https://plot.ly/python/\">Plotly</a> Interactive Charting<br/>\n",
    "* <a href = \"http://lightning-viz.org/\">Lightning</a> Interactive Charting<br/>"
   ]
  },
  {
   "cell_type": "code",
   "execution_count": null,
   "metadata": {
    "collapsed": true
   },
   "outputs": [],
   "source": []
  }
 ],
 "metadata": {
  "kernelspec": {
   "display_name": "Python 3",
   "language": "python",
   "name": "python3"
  },
  "language_info": {
   "codemirror_mode": {
    "name": "ipython",
    "version": 3
   },
   "file_extension": ".py",
   "mimetype": "text/x-python",
   "name": "python",
   "nbconvert_exporter": "python",
   "pygments_lexer": "ipython3",
   "version": "3.5.1"
  }
 },
 "nbformat": 4,
 "nbformat_minor": 0
}
